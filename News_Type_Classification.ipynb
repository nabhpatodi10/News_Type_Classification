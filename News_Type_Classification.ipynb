{
 "cells": [
  {
   "cell_type": "code",
   "execution_count": null,
   "id": "0057fe9c",
   "metadata": {},
   "outputs": [],
   "source": [
    "import pandas as pd\n",
    "from sklearn.feature_extraction.text import TfidfVectorizer\n",
    "from sklearn.ensemble import RandomForestClassifier\n",
    "from sklearn.model_selection import train_test_split\n",
    "from sklearn.metrics import accuracy_score, classification_report\n",
    "import json"
   ]
  },
  {
   "cell_type": "code",
   "execution_count": null,
   "id": "d79e3259",
   "metadata": {},
   "outputs": [],
   "source": [
    "data=[]\n",
    "with open('News_Category_Dataset_v3.json', 'r') as file:\n",
    "    for line in file:\n",
    "        record = json.loads(line)\n",
    "        data.append(record)"
   ]
  },
  {
   "cell_type": "code",
   "execution_count": null,
   "id": "422d1d74",
   "metadata": {},
   "outputs": [],
   "source": [
    "dataset = pd.DataFrame(data)"
   ]
  },
  {
   "cell_type": "code",
   "execution_count": null,
   "id": "d26745d8",
   "metadata": {},
   "outputs": [],
   "source": [
    "dataset"
   ]
  },
  {
   "cell_type": "code",
   "execution_count": null,
   "id": "24bd2f1a",
   "metadata": {},
   "outputs": [],
   "source": [
    "dataset['category'].unique()"
   ]
  },
  {
   "cell_type": "code",
   "execution_count": null,
   "id": "39fdb31d",
   "metadata": {},
   "outputs": [],
   "source": [
    "dataset=dataset.drop(['link', 'authors', 'date'], axis=1)"
   ]
  },
  {
   "cell_type": "code",
   "execution_count": null,
   "id": "309fcd3b",
   "metadata": {},
   "outputs": [],
   "source": [
    "dataset"
   ]
  },
  {
   "cell_type": "code",
   "execution_count": null,
   "id": "096a8fcf",
   "metadata": {},
   "outputs": [],
   "source": [
    "dataset['combined_text'] = dataset['headline'] + ' ' + dataset['short_description']"
   ]
  },
  {
   "cell_type": "code",
   "execution_count": null,
   "id": "cd3b0ae5",
   "metadata": {},
   "outputs": [],
   "source": [
    "X = dataset['combined_text']\n",
    "y = dataset['category']\n",
    "X_train, X_test, y_train, y_test = train_test_split(X, y, test_size=0.1, random_state=75)"
   ]
  },
  {
   "cell_type": "code",
   "execution_count": null,
   "id": "c2e12e2f",
   "metadata": {},
   "outputs": [],
   "source": [
    "tfidf_vectorizer = TfidfVectorizer()\n",
    "X_train_tfidf = tfidf_vectorizer.fit_transform(X_train)\n",
    "X_test_tfidf = tfidf_vectorizer.transform(X_test)"
   ]
  },
  {
   "cell_type": "code",
   "execution_count": null,
   "id": "dfe42548",
   "metadata": {},
   "outputs": [],
   "source": [
    "random_forest_classifier = RandomForestClassifier(n_estimators=300, random_state=75)\n",
    "random_forest_classifier.fit(X_train_tfidf, y_train)"
   ]
  },
  {
   "cell_type": "code",
   "execution_count": null,
   "id": "09f23917",
   "metadata": {},
   "outputs": [],
   "source": [
    "y_pred = random_forest_classifier.predict(X_test_tfidf)\n",
    "\n",
    "accuracy = accuracy_score(y_test, y_pred)\n",
    "report = classification_report(y_test, y_pred)\n",
    "\n",
    "print(f\"Accuracy: {accuracy}\")\n",
    "print(\"Classification Report:\\n\", report)"
   ]
  },
  {
   "cell_type": "code",
   "execution_count": null,
   "id": "7167896d",
   "metadata": {},
   "outputs": [],
   "source": [
    "custom_data = pd.DataFrame({\n",
    "    'headline': [\"American Airlines Flyer Charged, Banned For Life After Punching Flight Attendant On Video\"],\n",
    "    'short_description': [\"He was subdued by passengers and crew when he fled to the back of the aircraft after the confrontation, according to the U.S. attorney's office in Los Angeles.\"]\n",
    "})\n",
    "\n",
    "custom_data['combined_text'] = custom_data['headline'] + ' ' + custom_data['short_description']\n",
    "\n",
    "custom_data_tfidf = tfidf_vectorizer.transform(custom_data['combined_text'])\n",
    "\n",
    "custom_predictions = random_forest_classifier.predict(custom_data_tfidf)\n",
    "\n",
    "print(custom_predictions[0])"
   ]
  },
  {
   "cell_type": "code",
   "execution_count": null,
   "id": "953fc557",
   "metadata": {},
   "outputs": [],
   "source": [
    "import joblib"
   ]
  },
  {
   "cell_type": "code",
   "execution_count": null,
   "id": "b5ac4deb",
   "metadata": {},
   "outputs": [],
   "source": [
    "joblib.dump(random_forest_classifier, \"model.pkl\")"
   ]
  },
  {
   "cell_type": "code",
   "execution_count": null,
   "id": "a7d2444a",
   "metadata": {},
   "outputs": [],
   "source": []
  }
 ],
 "metadata": {
  "kernelspec": {
   "display_name": "Python 3 (ipykernel)",
   "language": "python",
   "name": "python3"
  },
  "language_info": {
   "codemirror_mode": {
    "name": "ipython",
    "version": 3
   },
   "file_extension": ".py",
   "mimetype": "text/x-python",
   "name": "python",
   "nbconvert_exporter": "python",
   "pygments_lexer": "ipython3",
   "version": "3.11.4"
  }
 },
 "nbformat": 4,
 "nbformat_minor": 5
}
